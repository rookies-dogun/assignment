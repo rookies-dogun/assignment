{
 "cells": [
  {
   "cell_type": "code",
   "execution_count": 40,
   "id": "59fd5a2d",
   "metadata": {},
   "outputs": [],
   "source": [
    "import requests\n",
    "import bs4\n",
    "# 다음 경제 뉴스\n",
    "\n",
    "\n",
    "\n",
    "# 섹션 나누기기\n",
    "section_dict = {'기후/환경':'climate','사회':'society','경제':'economy','정치':'politics','국재':'world','문화':'culture','생활':'life','IT/과학':'tech','인물':'people'}\n",
    "\n",
    "# 뉴스를 출력할 함수 생성성\n",
    "def print_news(section_name = None):\n",
    "    input_section = section_name != None\n",
    "    \n",
    "    if not input_section:\n",
    "        section_name = \"경제\"\n",
    "    # 불러올 항목 가져오기기\n",
    "    url = f'https://news.daum.net/{section_dict[section_name]}'\n",
    "    url_headers = {\n",
    "        \"user-agent\": \"Mozilla/5.0 (Windows NT 10.0; Win64; x64) AppleWebKit/537.36 (KHTML, like Gecko) Chrome/135.0.0.0 Safari/537.36\"\n",
    "    }\n",
    "        \n",
    "    # 요청\n",
    "    res = requests.get(url=url, headers=url_headers)\n",
    "    # 성공이면 파싱\n",
    "    if res.ok:\n",
    "        res.encoding = 'utf-8'\n",
    "        bs = bs4.BeautifulSoup(res.text, 'html.parser')\n",
    "        \n",
    "        news_list = bs.select(\".box_news_headline2 > ul.list_newsheadline2 > li > a \")\n",
    "        \n",
    "        # 출력\n",
    "        if input_section:\n",
    "            print(f'======> {url} {section_name} 뉴스 <======')\n",
    "        for news in news_list:\n",
    "            print(f'{news['href']}')\n",
    "            print(f'{news.select_one(\".cont_thumb > strong.tit_txt\").getText()}')\n",
    "    else:\n",
    "        print(f\"error code : {res.status_code}\")\n"
   ]
  },
  {
   "cell_type": "code",
   "execution_count": 41,
   "id": "b9c865db",
   "metadata": {},
   "outputs": [
    {
     "name": "stdout",
     "output_type": "stream",
     "text": [
      "https://v.daum.net/v/20250408154329660\n",
      "해외서 발 뺀 이중항체, 韓 기업들이 이끈다\n",
      "https://v.daum.net/v/20250408153003030\n",
      "탄핵 끝났는데 韓경제 ‘봄’은 언제 오나…박근혜 때와 다른 이유\n",
      "https://v.daum.net/v/20250408152923007\n",
      "경상수지 흑자행진에도… 한은 “美 관세에 불확실성 확대”\n",
      "https://v.daum.net/v/20250408144527816\n",
      "국제유가 하락에 흔들리는 정유업계…실적 먹구름 짙어진다\n",
      "https://v.daum.net/v/20250408143527180\n",
      "갤25로 실적 선방…삼성, 관세로 2분기는 불투명\n",
      "https://v.daum.net/v/20250408140753767\n",
      "조양호 한진그룹 선대회장 6주기… ‘45년 항공산업’ 리더십 재조명\n",
      "https://v.daum.net/v/20250408140302580\n",
      "미국 최대 은행이 \"여성 경영인이 경제 원동력\"이라 말한 이유\n",
      "https://v.daum.net/v/20250408124446384\n",
      "불평등 부채질하는 재난: 환경부는 약자 비명 듣고 있나요?\n",
      "https://v.daum.net/v/20250408121010759\n",
      "\"아무도 대신 챙겨주지 않습니다\" 퇴직금으론 부족한 은퇴 후 삶 \"개인 연금 중요\"\n"
     ]
    }
   ],
   "source": [
    "# 1) 아래의 url에서 뉴스기사의 링크와 제목을 출력하세요.\n",
    "print_news()\n"
   ]
  },
  {
   "cell_type": "code",
   "execution_count": 43,
   "id": "ba40718e",
   "metadata": {},
   "outputs": [
    {
     "name": "stdout",
     "output_type": "stream",
     "text": [
      "======> https://news.daum.net/economy 경제 뉴스 <======\n",
      "https://v.daum.net/v/20250408154329660\n",
      "해외서 발 뺀 이중항체, 韓 기업들이 이끈다\n",
      "https://v.daum.net/v/20250408153003030\n",
      "탄핵 끝났는데 韓경제 ‘봄’은 언제 오나…박근혜 때와 다른 이유\n",
      "https://v.daum.net/v/20250408152923007\n",
      "경상수지 흑자행진에도… 한은 “美 관세에 불확실성 확대”\n",
      "https://v.daum.net/v/20250408144527816\n",
      "국제유가 하락에 흔들리는 정유업계…실적 먹구름 짙어진다\n",
      "https://v.daum.net/v/20250408143527180\n",
      "갤25로 실적 선방…삼성, 관세로 2분기는 불투명\n",
      "https://v.daum.net/v/20250408140753767\n",
      "조양호 한진그룹 선대회장 6주기… ‘45년 항공산업’ 리더십 재조명\n",
      "https://v.daum.net/v/20250408140302580\n",
      "미국 최대 은행이 \"여성 경영인이 경제 원동력\"이라 말한 이유\n",
      "https://v.daum.net/v/20250408124446384\n",
      "불평등 부채질하는 재난: 환경부는 약자 비명 듣고 있나요?\n",
      "https://v.daum.net/v/20250408121010759\n",
      "\"아무도 대신 챙겨주지 않습니다\" 퇴직금으론 부족한 은퇴 후 삶 \"개인 연금 중요\"\n",
      "======> https://news.daum.net/people 인물 뉴스 <======\n",
      "https://v.daum.net/v/20250408092113275\n",
      "소쿠리를 소꼬리로 잘못 알아듣고… 몸보신 얘기에 웃음만발[사랑합니다]\n",
      "https://v.daum.net/v/20250408080901962\n",
      "한국 발레 전성기 만든 최태지가 아직도 꾸는 꿈\n",
      "https://v.daum.net/v/20250408080028797\n",
      "[MZ순경]’가만히 안아줄 수 있는 경찰 되고파’...시 쓰는 순경\n",
      "https://v.daum.net/v/20250407200810079\n",
      "제69회 신문의 날 기념대회… \"신문 역할·책임 막중\"\n",
      "https://v.daum.net/v/20250407184235757\n",
      "경기일보 K-ECO팀 ‘발암물질 위의 아이들’ 한국신문상·최현호 정치부 차장 협회상 수상\n",
      "https://v.daum.net/v/20250407181900333\n",
      "범인 잡고도 9년째 한 푼 못 받은 '시민덕희', 결국 최후통첩 꺼냈다 [김수호의 리캐스트]\n",
      "https://v.daum.net/v/20250407165417820\n",
      "제10회 조선통신사 한·일 우정 걷기…허남정 단장 동행기<5>\n",
      "https://v.daum.net/v/20250407140512254\n",
      "‘어른 김장하’ 장학생 문형배, 자폐아 키우며 세상 이해한 김형두 [영상]\n",
      "https://v.daum.net/v/20250407131830852\n",
      "“시서화 작품으로 후학 양성”…양평서 교육봉사하는 석도선생\n",
      "https://v.daum.net/v/20250408043126944\n",
      "[가만한 당신] 냉전 체스 판의 '폰'이기를 거부한 체스 챔프\n",
      "https://v.daum.net/v/20250405050216058\n",
      "[단독] 언더우드의 110년 전 편지… “한국인은 고등 교육 받을 준비 돼 있다”\n",
      "https://v.daum.net/v/20250403060005274\n",
      "③목숨 건 ‘뿌리 찾기’···벽 앞에 울다[생사고투]\n",
      "https://v.daum.net/v/20250402164120082\n",
      "종교를 초월한 인연…‘인천 봉사왕’ 故장성철씨 49재 거행\n",
      "https://v.daum.net/v/20250402095023046\n",
      "2차대전 때 독일·일본軍 암호 푼 英 여성 비밀 요원 별세\n",
      "https://v.daum.net/v/20250408092113275\n",
      "소쿠리를 소꼬리로 잘못 알아듣고… 몸보신 얘기에 웃음만발[사랑합니다]\n"
     ]
    }
   ],
   "source": [
    "# 2) 여러개의 section 중 하나를 선택해서 url에서 뉴스기사의 링크와 제목을 출력하는 코드를 함수로 작성하기\n",
    "print_news(\"경제\")\n",
    "print_news('인물')\n"
   ]
  }
 ],
 "metadata": {
  "kernelspec": {
   "display_name": "base",
   "language": "python",
   "name": "python3"
  },
  "language_info": {
   "codemirror_mode": {
    "name": "ipython",
    "version": 3
   },
   "file_extension": ".py",
   "mimetype": "text/x-python",
   "name": "python",
   "nbconvert_exporter": "python",
   "pygments_lexer": "ipython3",
   "version": "3.12.7"
  }
 },
 "nbformat": 4,
 "nbformat_minor": 5
}
