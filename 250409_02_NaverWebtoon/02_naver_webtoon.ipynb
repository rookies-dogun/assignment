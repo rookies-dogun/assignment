{
 "cells": [
  {
   "cell_type": "code",
   "execution_count": null,
   "id": "7e360e31",
   "metadata": {},
   "outputs": [],
   "source": [
    "# 2-2. 하나의 네이버 웹툰과 1개의 회차에 대한 Image 다운로드 하기\n",
    "\n",
    "\n",
    "\n",
    "import requests\n",
    "from bs4 import BeautifulSoup\n",
    "import os\n",
    "\n",
    "\n",
    "\n",
    "# 낢이 사는 이야기\n",
    "\n",
    "def download_one_episode(title, no, url):\n",
    "\n",
    "    # 디렉토리 생성\n",
    "    dirpath = f\"./img/{title}/{no}\";\n",
    "    os.makedirs(dirpath, exist_ok=True) \n",
    "    \n",
    "    req_header = {\n",
    "        'user-agent': 'Mozilla/5.0 (Windows NT 10.0; Win64; x64) AppleWebKit/537.36 (KHTML, like Gecko) Chrome/135.0.0.0 Safari/537.36',\n",
    "        'referer' : 'https://comic.naver.com/webtoon/list?'\n",
    "    }\n",
    "\n",
    "    res = requests.get(url=url, headers=req_header)\n",
    "\n",
    "    if res.ok:\n",
    "        res.encoding = 'utf-8'\n",
    "        soup = BeautifulSoup(res.text, 'html.parser')\n",
    "        \n",
    "        img_tag_list = soup.select(\".wt_viewer > img\")\n",
    "        \n",
    "        \n",
    "        for img_tag in img_tag_list:\n",
    "            img_url = img_tag[\"src\"]\n",
    "            img_res = requests.get(img_url, headers=req_header)\n",
    "            \n",
    "            if img_res.ok:\n",
    "                \n",
    "                # binary 응답 데이터 가져오기\n",
    "                img_data = img_res.content\n",
    "                \n",
    "                # url에서 파일명만 추출하기\n",
    "                file_name = os.path.join(dirpath, os.path.basename(img_url))\n",
    "                \n",
    "                # binday data를 file에 write하기'\n",
    "                with open(file_name,'wb') as file:\n",
    "                    print(f'Writting to {file_name}({len(img_data):,})')\n",
    "                    file.write(img_data)"
   ]
  },
  {
   "cell_type": "code",
   "execution_count": null,
   "id": "943ab194",
   "metadata": {},
   "outputs": [],
   "source": []
  }
 ],
 "metadata": {
  "language_info": {
   "name": "python"
  }
 },
 "nbformat": 4,
 "nbformat_minor": 5
}
